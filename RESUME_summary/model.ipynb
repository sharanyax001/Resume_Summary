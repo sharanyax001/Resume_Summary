{
 "cells": [
  {
   "cell_type": "code",
   "execution_count": 1,
   "metadata": {},
   "outputs": [
    {
     "name": "stdout",
     "output_type": "stream",
     "text": [
      "Requirement already satisfied: streamlit in /Users/sharanyasaha/.pyenv/versions/3.9.6/lib/python3.9/site-packages (1.23.1)\n",
      "Requirement already satisfied: python-dateutil<3,>=2 in /Users/sharanyasaha/.pyenv/versions/3.9.6/lib/python3.9/site-packages (from streamlit) (2.8.2)\n",
      "Requirement already satisfied: pandas<3,>=0.25 in /Users/sharanyasaha/.pyenv/versions/3.9.6/lib/python3.9/site-packages (from streamlit) (2.0.2)\n",
      "Requirement already satisfied: importlib-metadata<7,>=1.4 in /Users/sharanyasaha/.pyenv/versions/3.9.6/lib/python3.9/site-packages (from streamlit) (6.6.0)\n",
      "Requirement already satisfied: tenacity<9,>=8.0.0 in /Users/sharanyasaha/.pyenv/versions/3.9.6/lib/python3.9/site-packages (from streamlit) (8.2.2)\n",
      "Requirement already satisfied: typing-extensions<5,>=4.0.1 in /Users/sharanyasaha/.pyenv/versions/3.9.6/lib/python3.9/site-packages (from streamlit) (4.6.3)\n",
      "Requirement already satisfied: requests<3,>=2.4 in /Users/sharanyasaha/.pyenv/versions/3.9.6/lib/python3.9/site-packages (from streamlit) (2.31.0)\n",
      "Requirement already satisfied: pyarrow>=4.0 in /Users/sharanyasaha/.pyenv/versions/3.9.6/lib/python3.9/site-packages (from streamlit) (12.0.1)\n",
      "Requirement already satisfied: altair<6,>=4.0 in /Users/sharanyasaha/.pyenv/versions/3.9.6/lib/python3.9/site-packages (from streamlit) (5.0.1)\n",
      "Requirement already satisfied: pympler<2,>=0.9 in /Users/sharanyasaha/.pyenv/versions/3.9.6/lib/python3.9/site-packages (from streamlit) (1.0.1)\n",
      "Requirement already satisfied: protobuf<5,>=3.20 in /Users/sharanyasaha/.pyenv/versions/3.9.6/lib/python3.9/site-packages (from streamlit) (4.23.3)\n",
      "Requirement already satisfied: numpy<2,>=1 in /Users/sharanyasaha/.pyenv/versions/3.9.6/lib/python3.9/site-packages (from streamlit) (1.24.3)\n",
      "Requirement already satisfied: gitpython!=3.1.19,<4,>=3 in /Users/sharanyasaha/.pyenv/versions/3.9.6/lib/python3.9/site-packages (from streamlit) (3.1.31)\n",
      "Requirement already satisfied: validators<1,>=0.2 in /Users/sharanyasaha/.pyenv/versions/3.9.6/lib/python3.9/site-packages (from streamlit) (0.20.0)\n",
      "Requirement already satisfied: blinker<2,>=1.0.0 in /Users/sharanyasaha/.pyenv/versions/3.9.6/lib/python3.9/site-packages (from streamlit) (1.6.2)\n",
      "Requirement already satisfied: toml<2 in /Users/sharanyasaha/.pyenv/versions/3.9.6/lib/python3.9/site-packages (from streamlit) (0.10.2)\n",
      "Requirement already satisfied: packaging<24,>=14.1 in /Users/sharanyasaha/.pyenv/versions/3.9.6/lib/python3.9/site-packages (from streamlit) (23.1)\n",
      "Requirement already satisfied: click<9,>=7.0 in /Users/sharanyasaha/.pyenv/versions/3.9.6/lib/python3.9/site-packages (from streamlit) (8.1.3)\n",
      "Requirement already satisfied: pillow<10,>=6.2.0 in /Users/sharanyasaha/.pyenv/versions/3.9.6/lib/python3.9/site-packages (from streamlit) (9.5.0)\n",
      "Requirement already satisfied: tzlocal<5,>=1.1 in /Users/sharanyasaha/.pyenv/versions/3.9.6/lib/python3.9/site-packages (from streamlit) (4.3)\n",
      "Requirement already satisfied: rich<14,>=10.11.0 in /Users/sharanyasaha/.pyenv/versions/3.9.6/lib/python3.9/site-packages (from streamlit) (13.4.2)\n",
      "Requirement already satisfied: cachetools<6,>=4.0 in /Users/sharanyasaha/.pyenv/versions/3.9.6/lib/python3.9/site-packages (from streamlit) (5.3.1)\n",
      "Requirement already satisfied: tornado<7,>=6.0.3 in /Users/sharanyasaha/.pyenv/versions/3.9.6/lib/python3.9/site-packages (from streamlit) (6.3.2)\n",
      "Requirement already satisfied: pydeck<1,>=0.1.dev5 in /Users/sharanyasaha/.pyenv/versions/3.9.6/lib/python3.9/site-packages (from streamlit) (0.8.1b0)\n",
      "Requirement already satisfied: jsonschema>=3.0 in /Users/sharanyasaha/.pyenv/versions/3.9.6/lib/python3.9/site-packages (from altair<6,>=4.0->streamlit) (4.17.3)\n",
      "Requirement already satisfied: toolz in /Users/sharanyasaha/.pyenv/versions/3.9.6/lib/python3.9/site-packages (from altair<6,>=4.0->streamlit) (0.12.0)\n",
      "Requirement already satisfied: jinja2 in /Users/sharanyasaha/.pyenv/versions/3.9.6/lib/python3.9/site-packages (from altair<6,>=4.0->streamlit) (3.1.2)\n",
      "Requirement already satisfied: gitdb<5,>=4.0.1 in /Users/sharanyasaha/.pyenv/versions/3.9.6/lib/python3.9/site-packages (from gitpython!=3.1.19,<4,>=3->streamlit) (4.0.10)\n",
      "Requirement already satisfied: smmap<6,>=3.0.1 in /Users/sharanyasaha/.pyenv/versions/3.9.6/lib/python3.9/site-packages (from gitdb<5,>=4.0.1->gitpython!=3.1.19,<4,>=3->streamlit) (5.0.0)\n",
      "Requirement already satisfied: zipp>=0.5 in /Users/sharanyasaha/.pyenv/versions/3.9.6/lib/python3.9/site-packages (from importlib-metadata<7,>=1.4->streamlit) (3.15.0)\n",
      "Requirement already satisfied: pyrsistent!=0.17.0,!=0.17.1,!=0.17.2,>=0.14.0 in /Users/sharanyasaha/.pyenv/versions/3.9.6/lib/python3.9/site-packages (from jsonschema>=3.0->altair<6,>=4.0->streamlit) (0.19.3)\n",
      "Requirement already satisfied: attrs>=17.4.0 in /Users/sharanyasaha/.pyenv/versions/3.9.6/lib/python3.9/site-packages (from jsonschema>=3.0->altair<6,>=4.0->streamlit) (23.1.0)\n",
      "Requirement already satisfied: tzdata>=2022.1 in /Users/sharanyasaha/.pyenv/versions/3.9.6/lib/python3.9/site-packages (from pandas<3,>=0.25->streamlit) (2023.3)\n",
      "Requirement already satisfied: pytz>=2020.1 in /Users/sharanyasaha/.pyenv/versions/3.9.6/lib/python3.9/site-packages (from pandas<3,>=0.25->streamlit) (2023.3)\n",
      "Requirement already satisfied: MarkupSafe>=2.0 in /Users/sharanyasaha/.pyenv/versions/3.9.6/lib/python3.9/site-packages (from jinja2->altair<6,>=4.0->streamlit) (2.1.3)\n",
      "Requirement already satisfied: six>=1.5 in /Users/sharanyasaha/.pyenv/versions/3.9.6/lib/python3.9/site-packages (from python-dateutil<3,>=2->streamlit) (1.16.0)\n",
      "Requirement already satisfied: certifi>=2017.4.17 in /Users/sharanyasaha/.pyenv/versions/3.9.6/lib/python3.9/site-packages (from requests<3,>=2.4->streamlit) (2023.5.7)\n",
      "Requirement already satisfied: idna<4,>=2.5 in /Users/sharanyasaha/.pyenv/versions/3.9.6/lib/python3.9/site-packages (from requests<3,>=2.4->streamlit) (3.4)\n",
      "Requirement already satisfied: urllib3<3,>=1.21.1 in /Users/sharanyasaha/.pyenv/versions/3.9.6/lib/python3.9/site-packages (from requests<3,>=2.4->streamlit) (2.0.3)\n",
      "Requirement already satisfied: charset-normalizer<4,>=2 in /Users/sharanyasaha/.pyenv/versions/3.9.6/lib/python3.9/site-packages (from requests<3,>=2.4->streamlit) (3.1.0)\n",
      "Requirement already satisfied: markdown-it-py>=2.2.0 in /Users/sharanyasaha/.pyenv/versions/3.9.6/lib/python3.9/site-packages (from rich<14,>=10.11.0->streamlit) (3.0.0)\n",
      "Requirement already satisfied: pygments<3.0.0,>=2.13.0 in /Users/sharanyasaha/.pyenv/versions/3.9.6/lib/python3.9/site-packages (from rich<14,>=10.11.0->streamlit) (2.15.1)\n",
      "Requirement already satisfied: mdurl~=0.1 in /Users/sharanyasaha/.pyenv/versions/3.9.6/lib/python3.9/site-packages (from markdown-it-py>=2.2.0->rich<14,>=10.11.0->streamlit) (0.1.2)\n",
      "Requirement already satisfied: pytz-deprecation-shim in /Users/sharanyasaha/.pyenv/versions/3.9.6/lib/python3.9/site-packages (from tzlocal<5,>=1.1->streamlit) (0.1.0.post0)\n",
      "Requirement already satisfied: decorator>=3.4.0 in /Users/sharanyasaha/.pyenv/versions/3.9.6/lib/python3.9/site-packages (from validators<1,>=0.2->streamlit) (5.1.1)\n",
      "\u001b[33mWARNING: You are using pip version 21.1.3; however, version 23.1.2 is available.\n",
      "You should consider upgrading via the '/Users/sharanyasaha/.pyenv/versions/3.9.6/bin/python -m pip install --upgrade pip' command.\u001b[0m\n",
      "Note: you may need to restart the kernel to use updated packages.\n"
     ]
    }
   ],
   "source": [
    "pip install streamlit"
   ]
  },
  {
   "cell_type": "code",
   "execution_count": 2,
   "metadata": {},
   "outputs": [
    {
     "name": "stdout",
     "output_type": "stream",
     "text": [
      "Requirement already satisfied: pandas in /Users/sharanyasaha/.pyenv/versions/3.9.6/lib/python3.9/site-packages (2.0.2)\n",
      "Requirement already satisfied: pytz>=2020.1 in /Users/sharanyasaha/.pyenv/versions/3.9.6/lib/python3.9/site-packages (from pandas) (2023.3)\n",
      "Requirement already satisfied: python-dateutil>=2.8.2 in /Users/sharanyasaha/.pyenv/versions/3.9.6/lib/python3.9/site-packages (from pandas) (2.8.2)\n",
      "Requirement already satisfied: numpy>=1.20.3 in /Users/sharanyasaha/.pyenv/versions/3.9.6/lib/python3.9/site-packages (from pandas) (1.24.3)\n",
      "Requirement already satisfied: tzdata>=2022.1 in /Users/sharanyasaha/.pyenv/versions/3.9.6/lib/python3.9/site-packages (from pandas) (2023.3)\n",
      "Requirement already satisfied: six>=1.5 in /Users/sharanyasaha/.pyenv/versions/3.9.6/lib/python3.9/site-packages (from python-dateutil>=2.8.2->pandas) (1.16.0)\n",
      "\u001b[33mWARNING: You are using pip version 21.1.3; however, version 23.1.2 is available.\n",
      "You should consider upgrading via the '/Users/sharanyasaha/.pyenv/versions/3.9.6/bin/python -m pip install --upgrade pip' command.\u001b[0m\n",
      "Note: you may need to restart the kernel to use updated packages.\n"
     ]
    }
   ],
   "source": [
    "pip install pandas\n"
   ]
  },
  {
   "cell_type": "code",
   "execution_count": 3,
   "metadata": {},
   "outputs": [
    {
     "name": "stdout",
     "output_type": "stream",
     "text": [
      "Requirement already satisfied: scikit-learn in /Users/sharanyasaha/.pyenv/versions/3.9.6/lib/python3.9/site-packages (1.2.2)\n",
      "Requirement already satisfied: numpy>=1.17.3 in /Users/sharanyasaha/.pyenv/versions/3.9.6/lib/python3.9/site-packages (from scikit-learn) (1.24.3)\n",
      "Requirement already satisfied: joblib>=1.1.1 in /Users/sharanyasaha/.pyenv/versions/3.9.6/lib/python3.9/site-packages (from scikit-learn) (1.2.0)\n",
      "Requirement already satisfied: threadpoolctl>=2.0.0 in /Users/sharanyasaha/.pyenv/versions/3.9.6/lib/python3.9/site-packages (from scikit-learn) (3.1.0)\n",
      "Requirement already satisfied: scipy>=1.3.2 in /Users/sharanyasaha/.pyenv/versions/3.9.6/lib/python3.9/site-packages (from scikit-learn) (1.10.1)\n",
      "\u001b[33mWARNING: You are using pip version 21.1.3; however, version 23.1.2 is available.\n",
      "You should consider upgrading via the '/Users/sharanyasaha/.pyenv/versions/3.9.6/bin/python -m pip install --upgrade pip' command.\u001b[0m\n",
      "Note: you may need to restart the kernel to use updated packages.\n"
     ]
    }
   ],
   "source": [
    "pip install scikit-learn"
   ]
  },
  {
   "cell_type": "code",
   "execution_count": 4,
   "metadata": {},
   "outputs": [
    {
     "name": "stdout",
     "output_type": "stream",
     "text": [
      "Requirement already satisfied: joblib in /Users/sharanyasaha/.pyenv/versions/3.9.6/lib/python3.9/site-packages (1.2.0)\n",
      "\u001b[33mWARNING: You are using pip version 21.1.3; however, version 23.1.2 is available.\n",
      "You should consider upgrading via the '/Users/sharanyasaha/.pyenv/versions/3.9.6/bin/python -m pip install --upgrade pip' command.\u001b[0m\n",
      "Note: you may need to restart the kernel to use updated packages.\n"
     ]
    }
   ],
   "source": [
    "pip install joblib"
   ]
  },
  {
   "cell_type": "code",
   "execution_count": 117,
   "metadata": {},
   "outputs": [],
   "source": [
    "import spacy\n",
    "import random\n",
    "import csv\n",
    "\n",
    "# Load the training data from the CSV file\n",
    "def load_data(file_path):\n",
    "    texts = []\n",
    "    labels = []\n",
    "    with open(file_path, 'r', newline='', encoding='utf-8') as file:\n",
    "        reader = csv.reader(file)\n",
    "        for row in reader:\n",
    "            # Assuming the text is in the first column and the label is in the second column\n",
    "            text = row[0]\n",
    "            label = row[1]\n",
    "            texts.append(text)\n",
    "            labels.append(label)\n",
    "    return list(zip(texts, labels))\n",
    "\n",
    "# Set up a blank spaCy model\n",
    "nlp = spacy.blank('en')\n",
    "ner = nlp.add_pipe('ner')\n",
    "\n"
   ]
  },
  {
   "cell_type": "code",
   "execution_count": 118,
   "metadata": {},
   "outputs": [],
   "source": [
    "labels = ['Field of Expertise', 'Previous Company', 'Applied for','Years of Experience']\n",
    "for label in labels:\n",
    "    ner.add_label(label)"
   ]
  },
  {
   "cell_type": "code",
   "execution_count": 119,
   "metadata": {},
   "outputs": [],
   "source": [
    "train_data = []\n",
    "for data in train_data:\n",
    "    text = data['sentence']\n",
    "    entities = []\n",
    "    for entity in data['entities']:\n",
    "        start = text.find(entity['text'])\n",
    "        end = start + len(entity['text'])\n",
    "        entities.append((start, end, entity['label']))\n",
    "    train_data.append((text, {'entities': entities}))"
   ]
  },
  {
   "cell_type": "code",
   "execution_count": 120,
   "metadata": {},
   "outputs": [],
   "source": [
    "n_iter = 10  # Number of training iterations\n",
    "optimizer = nlp.begin_training()\n",
    "for _ in range(n_iter):\n",
    "    random.shuffle(train_data)\n",
    "    losses = {}    "
   ]
  },
  {
   "cell_type": "code",
   "execution_count": 122,
   "metadata": {},
   "outputs": [],
   "source": [
    "nlp.to_disk('trained_model')"
   ]
  },
  {
   "attachments": {},
   "cell_type": "markdown",
   "metadata": {},
   "source": [
    "#remember for this project the blank model is th etrained model and the trained model is a blank model"
   ]
  },
  {
   "cell_type": "code",
   "execution_count": 130,
   "metadata": {},
   "outputs": [
    {
     "name": "stdout",
     "output_type": "stream",
     "text": [
      "Requirement already satisfied: spacy in /Users/sharanyasaha/.pyenv/versions/3.9.6/lib/python3.9/site-packages (3.5.3)\n",
      "Requirement already satisfied: langcodes<4.0.0,>=3.2.0 in /Users/sharanyasaha/.pyenv/versions/3.9.6/lib/python3.9/site-packages (from spacy) (3.3.0)\n",
      "Requirement already satisfied: cymem<2.1.0,>=2.0.2 in /Users/sharanyasaha/.pyenv/versions/3.9.6/lib/python3.9/site-packages (from spacy) (2.0.7)\n",
      "Requirement already satisfied: pydantic!=1.8,!=1.8.1,<1.11.0,>=1.7.4 in /Users/sharanyasaha/.pyenv/versions/3.9.6/lib/python3.9/site-packages (from spacy) (1.10.9)\n",
      "Requirement already satisfied: typer<0.8.0,>=0.3.0 in /Users/sharanyasaha/.pyenv/versions/3.9.6/lib/python3.9/site-packages (from spacy) (0.7.0)\n",
      "Requirement already satisfied: pathy>=0.10.0 in /Users/sharanyasaha/.pyenv/versions/3.9.6/lib/python3.9/site-packages (from spacy) (0.10.1)\n",
      "Requirement already satisfied: srsly<3.0.0,>=2.4.3 in /Users/sharanyasaha/.pyenv/versions/3.9.6/lib/python3.9/site-packages (from spacy) (2.4.6)\n",
      "Requirement already satisfied: spacy-legacy<3.1.0,>=3.0.11 in /Users/sharanyasaha/.pyenv/versions/3.9.6/lib/python3.9/site-packages (from spacy) (3.0.12)\n",
      "Requirement already satisfied: smart-open<7.0.0,>=5.2.1 in /Users/sharanyasaha/.pyenv/versions/3.9.6/lib/python3.9/site-packages (from spacy) (6.3.0)\n",
      "Requirement already satisfied: requests<3.0.0,>=2.13.0 in /Users/sharanyasaha/.pyenv/versions/3.9.6/lib/python3.9/site-packages (from spacy) (2.31.0)\n",
      "Requirement already satisfied: wasabi<1.2.0,>=0.9.1 in /Users/sharanyasaha/.pyenv/versions/3.9.6/lib/python3.9/site-packages (from spacy) (1.1.2)\n",
      "Requirement already satisfied: preshed<3.1.0,>=3.0.2 in /Users/sharanyasaha/.pyenv/versions/3.9.6/lib/python3.9/site-packages (from spacy) (3.0.8)\n",
      "Requirement already satisfied: thinc<8.2.0,>=8.1.8 in /Users/sharanyasaha/.pyenv/versions/3.9.6/lib/python3.9/site-packages (from spacy) (8.1.10)\n",
      "Requirement already satisfied: catalogue<2.1.0,>=2.0.6 in /Users/sharanyasaha/.pyenv/versions/3.9.6/lib/python3.9/site-packages (from spacy) (2.0.8)\n",
      "Requirement already satisfied: packaging>=20.0 in /Users/sharanyasaha/.pyenv/versions/3.9.6/lib/python3.9/site-packages (from spacy) (23.1)\n",
      "Requirement already satisfied: jinja2 in /Users/sharanyasaha/.pyenv/versions/3.9.6/lib/python3.9/site-packages (from spacy) (3.1.2)\n",
      "Requirement already satisfied: tqdm<5.0.0,>=4.38.0 in /Users/sharanyasaha/.pyenv/versions/3.9.6/lib/python3.9/site-packages (from spacy) (4.65.0)\n",
      "Requirement already satisfied: setuptools in /Users/sharanyasaha/.pyenv/versions/3.9.6/lib/python3.9/site-packages (from spacy) (56.0.0)\n",
      "Requirement already satisfied: spacy-loggers<2.0.0,>=1.0.0 in /Users/sharanyasaha/.pyenv/versions/3.9.6/lib/python3.9/site-packages (from spacy) (1.0.4)\n",
      "Requirement already satisfied: murmurhash<1.1.0,>=0.28.0 in /Users/sharanyasaha/.pyenv/versions/3.9.6/lib/python3.9/site-packages (from spacy) (1.0.9)\n",
      "Requirement already satisfied: numpy>=1.15.0 in /Users/sharanyasaha/.pyenv/versions/3.9.6/lib/python3.9/site-packages (from spacy) (1.24.3)\n",
      "Requirement already satisfied: typing-extensions>=4.2.0 in /Users/sharanyasaha/.pyenv/versions/3.9.6/lib/python3.9/site-packages (from pydantic!=1.8,!=1.8.1,<1.11.0,>=1.7.4->spacy) (4.6.3)\n",
      "Requirement already satisfied: charset-normalizer<4,>=2 in /Users/sharanyasaha/.pyenv/versions/3.9.6/lib/python3.9/site-packages (from requests<3.0.0,>=2.13.0->spacy) (3.1.0)\n",
      "Requirement already satisfied: idna<4,>=2.5 in /Users/sharanyasaha/.pyenv/versions/3.9.6/lib/python3.9/site-packages (from requests<3.0.0,>=2.13.0->spacy) (3.4)\n",
      "Requirement already satisfied: urllib3<3,>=1.21.1 in /Users/sharanyasaha/.pyenv/versions/3.9.6/lib/python3.9/site-packages (from requests<3.0.0,>=2.13.0->spacy) (2.0.3)\n",
      "Requirement already satisfied: certifi>=2017.4.17 in /Users/sharanyasaha/.pyenv/versions/3.9.6/lib/python3.9/site-packages (from requests<3.0.0,>=2.13.0->spacy) (2023.5.7)\n",
      "Requirement already satisfied: confection<1.0.0,>=0.0.1 in /Users/sharanyasaha/.pyenv/versions/3.9.6/lib/python3.9/site-packages (from thinc<8.2.0,>=8.1.8->spacy) (0.0.4)\n",
      "Requirement already satisfied: blis<0.8.0,>=0.7.8 in /Users/sharanyasaha/.pyenv/versions/3.9.6/lib/python3.9/site-packages (from thinc<8.2.0,>=8.1.8->spacy) (0.7.9)\n",
      "Requirement already satisfied: click<9.0.0,>=7.1.1 in /Users/sharanyasaha/.pyenv/versions/3.9.6/lib/python3.9/site-packages (from typer<0.8.0,>=0.3.0->spacy) (8.1.3)\n",
      "Requirement already satisfied: MarkupSafe>=2.0 in /Users/sharanyasaha/.pyenv/versions/3.9.6/lib/python3.9/site-packages (from jinja2->spacy) (2.1.3)\n",
      "\u001b[33mWARNING: You are using pip version 21.1.3; however, version 23.1.2 is available.\n",
      "You should consider upgrading via the '/Users/sharanyasaha/.pyenv/versions/3.9.6/bin/python -m pip install --upgrade pip' command.\u001b[0m\n",
      "Note: you may need to restart the kernel to use updated packages.\n"
     ]
    }
   ],
   "source": [
    "pip install spacy\n"
   ]
  },
  {
   "cell_type": "code",
   "execution_count": 139,
   "metadata": {},
   "outputs": [],
   "source": [
    "import spacy"
   ]
  },
  {
   "cell_type": "code",
   "execution_count": 145,
   "metadata": {},
   "outputs": [
    {
     "ename": "OSError",
     "evalue": "[E050] Can't find model 'en_core_web_lg'. It doesn't seem to be a Python package or a valid path to a data directory.",
     "output_type": "error",
     "traceback": [
      "\u001b[0;31m---------------------------------------------------------------------------\u001b[0m",
      "\u001b[0;31mOSError\u001b[0m                                   Traceback (most recent call last)",
      "Cell \u001b[0;32mIn[145], line 4\u001b[0m\n\u001b[1;32m      1\u001b[0m \u001b[39mimport\u001b[39;00m \u001b[39mspacy\u001b[39;00m\n\u001b[1;32m      3\u001b[0m \u001b[39m# Load the pre-trained English model\u001b[39;00m\n\u001b[0;32m----> 4\u001b[0m final_model \u001b[39m=\u001b[39m spacy\u001b[39m.\u001b[39;49mload(\u001b[39m'\u001b[39;49m\u001b[39men_core_web_lg\u001b[39;49m\u001b[39m'\u001b[39;49m)\n",
      "File \u001b[0;32m~/.pyenv/versions/3.9.6/lib/python3.9/site-packages/spacy/__init__.py:54\u001b[0m, in \u001b[0;36mload\u001b[0;34m(name, vocab, disable, enable, exclude, config)\u001b[0m\n\u001b[1;32m     30\u001b[0m \u001b[39mdef\u001b[39;00m \u001b[39mload\u001b[39m(\n\u001b[1;32m     31\u001b[0m     name: Union[\u001b[39mstr\u001b[39m, Path],\n\u001b[1;32m     32\u001b[0m     \u001b[39m*\u001b[39m,\n\u001b[0;32m   (...)\u001b[0m\n\u001b[1;32m     37\u001b[0m     config: Union[Dict[\u001b[39mstr\u001b[39m, Any], Config] \u001b[39m=\u001b[39m util\u001b[39m.\u001b[39mSimpleFrozenDict(),\n\u001b[1;32m     38\u001b[0m ) \u001b[39m-\u001b[39m\u001b[39m>\u001b[39m Language:\n\u001b[1;32m     39\u001b[0m \u001b[39m    \u001b[39m\u001b[39m\"\"\"Load a spaCy model from an installed package or a local path.\u001b[39;00m\n\u001b[1;32m     40\u001b[0m \n\u001b[1;32m     41\u001b[0m \u001b[39m    name (str): Package name or model path.\u001b[39;00m\n\u001b[0;32m   (...)\u001b[0m\n\u001b[1;32m     52\u001b[0m \u001b[39m    RETURNS (Language): The loaded nlp object.\u001b[39;00m\n\u001b[1;32m     53\u001b[0m \u001b[39m    \"\"\"\u001b[39;00m\n\u001b[0;32m---> 54\u001b[0m     \u001b[39mreturn\u001b[39;00m util\u001b[39m.\u001b[39;49mload_model(\n\u001b[1;32m     55\u001b[0m         name,\n\u001b[1;32m     56\u001b[0m         vocab\u001b[39m=\u001b[39;49mvocab,\n\u001b[1;32m     57\u001b[0m         disable\u001b[39m=\u001b[39;49mdisable,\n\u001b[1;32m     58\u001b[0m         enable\u001b[39m=\u001b[39;49menable,\n\u001b[1;32m     59\u001b[0m         exclude\u001b[39m=\u001b[39;49mexclude,\n\u001b[1;32m     60\u001b[0m         config\u001b[39m=\u001b[39;49mconfig,\n\u001b[1;32m     61\u001b[0m     )\n",
      "File \u001b[0;32m~/.pyenv/versions/3.9.6/lib/python3.9/site-packages/spacy/util.py:449\u001b[0m, in \u001b[0;36mload_model\u001b[0;34m(name, vocab, disable, enable, exclude, config)\u001b[0m\n\u001b[1;32m    447\u001b[0m \u001b[39mif\u001b[39;00m name \u001b[39min\u001b[39;00m OLD_MODEL_SHORTCUTS:\n\u001b[1;32m    448\u001b[0m     \u001b[39mraise\u001b[39;00m \u001b[39mIOError\u001b[39;00m(Errors\u001b[39m.\u001b[39mE941\u001b[39m.\u001b[39mformat(name\u001b[39m=\u001b[39mname, full\u001b[39m=\u001b[39mOLD_MODEL_SHORTCUTS[name]))  \u001b[39m# type: ignore[index]\u001b[39;00m\n\u001b[0;32m--> 449\u001b[0m \u001b[39mraise\u001b[39;00m \u001b[39mIOError\u001b[39;00m(Errors\u001b[39m.\u001b[39mE050\u001b[39m.\u001b[39mformat(name\u001b[39m=\u001b[39mname))\n",
      "\u001b[0;31mOSError\u001b[0m: [E050] Can't find model 'en_core_web_lg'. It doesn't seem to be a Python package or a valid path to a data directory."
     ]
    }
   ],
   "source": [
    "\n",
    "import spacy\n",
    "\n",
    "# Load the pre-trained English model\n",
    "Trained_model = spacy.load('en_core_web_lg')\n",
    "\n",
    "\n"
   ]
  },
  {
   "cell_type": "code",
   "execution_count": null,
   "metadata": {},
   "outputs": [],
   "source": []
  },
  {
   "cell_type": "code",
   "execution_count": 141,
   "metadata": {},
   "outputs": [],
   "source": [
    "\n",
    "import pickle\n",
    "\n",
    "\n",
    "# Save the model as a pickle file\n",
    "with open('Trained_model.pkl', 'wb') as file:\n",
    "    pickle.dump(Trained_model, file)\n"
   ]
  },
  {
   "attachments": {},
   "cell_type": "markdown",
   "metadata": {},
   "source": [
    "load the blank into trained (here trained into blank)"
   ]
  },
  {
   "cell_type": "code",
   "execution_count": 126,
   "metadata": {},
   "outputs": [],
   "source": [
    "import pickle"
   ]
  },
  {
   "cell_type": "code",
   "execution_count": 128,
   "metadata": {},
   "outputs": [],
   "source": [
    "#Load the trained model parameters from the pickle file\n",
    "trained_model_path = 'blank_model.pkl'\n",
    "with open(trained_model_path, 'rb') as file:\n",
    "    trained_model = pickle.load(file)\n",
    "\n",
    "# Now, the trained model has been loaded into the 'trained_model' variable\n"
   ]
  },
  {
   "cell_type": "code",
   "execution_count": 146,
   "metadata": {},
   "outputs": [
    {
     "name": "stdout",
     "output_type": "stream",
     "text": [
      "3.5.3\n"
     ]
    }
   ],
   "source": [
    "import spacy\n",
    "\n",
    "print(spacy.__version__)\n"
   ]
  },
  {
   "cell_type": "code",
   "execution_count": 147,
   "metadata": {},
   "outputs": [
    {
     "ename": "OSError",
     "evalue": "[E050] Can't find model 'en_core_web_lg'. It doesn't seem to be a Python package or a valid path to a data directory.",
     "output_type": "error",
     "traceback": [
      "\u001b[0;31m---------------------------------------------------------------------------\u001b[0m",
      "\u001b[0;31mOSError\u001b[0m                                   Traceback (most recent call last)",
      "Cell \u001b[0;32mIn[147], line 3\u001b[0m\n\u001b[1;32m      1\u001b[0m \u001b[39mimport\u001b[39;00m \u001b[39mspacy\u001b[39;00m\n\u001b[0;32m----> 3\u001b[0m nlp \u001b[39m=\u001b[39m spacy\u001b[39m.\u001b[39;49mload(\u001b[39m'\u001b[39;49m\u001b[39men_core_web_lg\u001b[39;49m\u001b[39m'\u001b[39;49m)\n\u001b[1;32m      4\u001b[0m \u001b[39mprint\u001b[39m(nlp\u001b[39m.\u001b[39mmeta[\u001b[39m'\u001b[39m\u001b[39mversion\u001b[39m\u001b[39m'\u001b[39m])\n",
      "File \u001b[0;32m~/.pyenv/versions/3.9.6/lib/python3.9/site-packages/spacy/__init__.py:54\u001b[0m, in \u001b[0;36mload\u001b[0;34m(name, vocab, disable, enable, exclude, config)\u001b[0m\n\u001b[1;32m     30\u001b[0m \u001b[39mdef\u001b[39;00m \u001b[39mload\u001b[39m(\n\u001b[1;32m     31\u001b[0m     name: Union[\u001b[39mstr\u001b[39m, Path],\n\u001b[1;32m     32\u001b[0m     \u001b[39m*\u001b[39m,\n\u001b[0;32m   (...)\u001b[0m\n\u001b[1;32m     37\u001b[0m     config: Union[Dict[\u001b[39mstr\u001b[39m, Any], Config] \u001b[39m=\u001b[39m util\u001b[39m.\u001b[39mSimpleFrozenDict(),\n\u001b[1;32m     38\u001b[0m ) \u001b[39m-\u001b[39m\u001b[39m>\u001b[39m Language:\n\u001b[1;32m     39\u001b[0m \u001b[39m    \u001b[39m\u001b[39m\"\"\"Load a spaCy model from an installed package or a local path.\u001b[39;00m\n\u001b[1;32m     40\u001b[0m \n\u001b[1;32m     41\u001b[0m \u001b[39m    name (str): Package name or model path.\u001b[39;00m\n\u001b[0;32m   (...)\u001b[0m\n\u001b[1;32m     52\u001b[0m \u001b[39m    RETURNS (Language): The loaded nlp object.\u001b[39;00m\n\u001b[1;32m     53\u001b[0m \u001b[39m    \"\"\"\u001b[39;00m\n\u001b[0;32m---> 54\u001b[0m     \u001b[39mreturn\u001b[39;00m util\u001b[39m.\u001b[39;49mload_model(\n\u001b[1;32m     55\u001b[0m         name,\n\u001b[1;32m     56\u001b[0m         vocab\u001b[39m=\u001b[39;49mvocab,\n\u001b[1;32m     57\u001b[0m         disable\u001b[39m=\u001b[39;49mdisable,\n\u001b[1;32m     58\u001b[0m         enable\u001b[39m=\u001b[39;49menable,\n\u001b[1;32m     59\u001b[0m         exclude\u001b[39m=\u001b[39;49mexclude,\n\u001b[1;32m     60\u001b[0m         config\u001b[39m=\u001b[39;49mconfig,\n\u001b[1;32m     61\u001b[0m     )\n",
      "File \u001b[0;32m~/.pyenv/versions/3.9.6/lib/python3.9/site-packages/spacy/util.py:449\u001b[0m, in \u001b[0;36mload_model\u001b[0;34m(name, vocab, disable, enable, exclude, config)\u001b[0m\n\u001b[1;32m    447\u001b[0m \u001b[39mif\u001b[39;00m name \u001b[39min\u001b[39;00m OLD_MODEL_SHORTCUTS:\n\u001b[1;32m    448\u001b[0m     \u001b[39mraise\u001b[39;00m \u001b[39mIOError\u001b[39;00m(Errors\u001b[39m.\u001b[39mE941\u001b[39m.\u001b[39mformat(name\u001b[39m=\u001b[39mname, full\u001b[39m=\u001b[39mOLD_MODEL_SHORTCUTS[name]))  \u001b[39m# type: ignore[index]\u001b[39;00m\n\u001b[0;32m--> 449\u001b[0m \u001b[39mraise\u001b[39;00m \u001b[39mIOError\u001b[39;00m(Errors\u001b[39m.\u001b[39mE050\u001b[39m.\u001b[39mformat(name\u001b[39m=\u001b[39mname))\n",
      "\u001b[0;31mOSError\u001b[0m: [E050] Can't find model 'en_core_web_lg'. It doesn't seem to be a Python package or a valid path to a data directory."
     ]
    }
   ],
   "source": [
    "import spacy\n",
    "\n",
    "nlp = spacy.load('en_core_web_lg')\n",
    "print(nlp.meta['version'])\n"
   ]
  }
 ],
 "metadata": {
  "kernelspec": {
   "display_name": "Python 3",
   "language": "python",
   "name": "python3"
  },
  "language_info": {
   "codemirror_mode": {
    "name": "ipython",
    "version": 3
   },
   "file_extension": ".py",
   "mimetype": "text/x-python",
   "name": "python",
   "nbconvert_exporter": "python",
   "pygments_lexer": "ipython3",
   "version": "3.9.6"
  },
  "orig_nbformat": 4
 },
 "nbformat": 4,
 "nbformat_minor": 2
}
