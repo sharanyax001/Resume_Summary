{
 "cells": [
  {
   "attachments": {},
   "cell_type": "markdown",
   "metadata": {},
   "source": [
    "Converting the csv file into json file"
   ]
  },
  {
   "cell_type": "code",
   "execution_count": 1,
   "metadata": {},
   "outputs": [],
   "source": [
    "import csv\n",
    "import json\n",
    "\n",
    "def csv_to_json(csv_file, json_file):\n",
    "    # Open the CSV file for reading\n",
    "    with open(csv_file, 'r') as file:\n",
    "        # Read the CSV data using a dictionary reader\n",
    "        csv_data = csv.DictReader(file)\n",
    "        # Convert the CSV data to a list of dictionaries\n",
    "        data = [row for row in csv_data]\n",
    "    \n",
    "    # Open the JSON file for writing\n",
    "    with open(json_file, 'w') as file:\n",
    "        # Write the JSON data to the file\n",
    "        json.dump(data, file, indent=4)\n",
    "\n",
    "# Specify the paths of the CSV and JSON files\n",
    "csv_path = 'training_data.csv'\n",
    "json_path = 'training_data.json'\n",
    "\n",
    "# Convert the CSV file to JSON\n",
    "csv_to_json(csv_path, json_path)\n"
   ]
  },
  {
   "attachments": {},
   "cell_type": "markdown",
   "metadata": {},
   "source": [
    "TRAINING THE MODEL"
   ]
  },
  {
   "attachments": {},
   "cell_type": "markdown",
   "metadata": {},
   "source": [
    "saving the model"
   ]
  },
  {
   "cell_type": "code",
   "execution_count": 14,
   "metadata": {},
   "outputs": [],
   "source": [
    "import pickle\n",
    "\n",
    "with open('/Users/sharanyasaha/Desktop/APT_proj/RESUME_summary/trained_model/ner/model', 'rb') as file:\n",
    "    data = file.read()\n",
    "\n",
    "with open('Model_file.pkl', 'wb') as file:\n",
    "    pickle.dump(data, file)\n"
   ]
  },
  {
   "cell_type": "code",
   "execution_count": 15,
   "metadata": {},
   "outputs": [],
   "source": [
    "file.close()\n"
   ]
  },
  {
   "cell_type": "code",
   "execution_count": 8,
   "metadata": {},
   "outputs": [],
   "source": [
    "import streamlit as st\n",
    "import joblib\n",
    "\n",
    "\n",
    "def train_model():\n",
    "    # Training logic here\n",
    "    # Replace with your own model training code\n",
    "    model= joblib.load(\n",
    "        '/Users/sharanyasaha/Desktop/APT_proj/RESUME_summary/trained_model')\n",
    "    model.train()"
   ]
  }
 ],
 "metadata": {
  "kernelspec": {
   "display_name": "Python 3",
   "language": "python",
   "name": "python3"
  },
  "language_info": {
   "codemirror_mode": {
    "name": "ipython",
    "version": 3
   },
   "file_extension": ".py",
   "mimetype": "text/x-python",
   "name": "python",
   "nbconvert_exporter": "python",
   "pygments_lexer": "ipython3",
   "version": "3.9.6"
  },
  "orig_nbformat": 4
 },
 "nbformat": 4,
 "nbformat_minor": 2
}
